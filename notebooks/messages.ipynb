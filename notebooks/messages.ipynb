{
 "cells": [
  {
   "cell_type": "markdown",
   "id": "52282073",
   "metadata": {},
   "source": [
    "# Generate personalized messages"
   ]
  },
  {
   "cell_type": "markdown",
   "id": "10693ec2",
   "metadata": {},
   "source": [
    "## 1) Imports"
   ]
  },
  {
   "cell_type": "code",
   "execution_count": 1,
   "id": "8b98f084",
   "metadata": {},
   "outputs": [],
   "source": [
    "import sys\n",
    "import os\n",
    "import pandas as pd\n",
    "\n",
    "# Add the src folder to the path\n",
    "sys.path.append(os.path.abspath(\"../src\"))\n",
    "\n",
    "from data_transformation import get_partition_limits, split_dataframe_by_quantiles, split_dataframe_by_values\n",
    "from message import get_response\n"
   ]
  },
  {
   "cell_type": "markdown",
   "id": "3957de04",
   "metadata": {},
   "source": [
    "## 2) Read Dataset"
   ]
  },
  {
   "cell_type": "code",
   "execution_count": null,
   "id": "e6014dd0",
   "metadata": {},
   "outputs": [
    {
     "data": {
      "text/html": [
       "<div>\n",
       "<style scoped>\n",
       "    .dataframe tbody tr th:only-of-type {\n",
       "        vertical-align: middle;\n",
       "    }\n",
       "\n",
       "    .dataframe tbody tr th {\n",
       "        vertical-align: top;\n",
       "    }\n",
       "\n",
       "    .dataframe thead th {\n",
       "        text-align: right;\n",
       "    }\n",
       "</style>\n",
       "<table border=\"1\" class=\"dataframe\">\n",
       "  <thead>\n",
       "    <tr style=\"text-align: right;\">\n",
       "      <th></th>\n",
       "      <th>User ID</th>\n",
       "      <th>Gender</th>\n",
       "      <th>Age</th>\n",
       "      <th>EstimatedSalary</th>\n",
       "      <th>Purchased</th>\n",
       "    </tr>\n",
       "  </thead>\n",
       "  <tbody>\n",
       "    <tr>\n",
       "      <th>0</th>\n",
       "      <td>15624510</td>\n",
       "      <td>Male</td>\n",
       "      <td>19</td>\n",
       "      <td>19000</td>\n",
       "      <td>0</td>\n",
       "    </tr>\n",
       "    <tr>\n",
       "      <th>1</th>\n",
       "      <td>15810944</td>\n",
       "      <td>Male</td>\n",
       "      <td>35</td>\n",
       "      <td>20000</td>\n",
       "      <td>0</td>\n",
       "    </tr>\n",
       "    <tr>\n",
       "      <th>2</th>\n",
       "      <td>15668575</td>\n",
       "      <td>Female</td>\n",
       "      <td>26</td>\n",
       "      <td>43000</td>\n",
       "      <td>0</td>\n",
       "    </tr>\n",
       "    <tr>\n",
       "      <th>3</th>\n",
       "      <td>15603246</td>\n",
       "      <td>Female</td>\n",
       "      <td>27</td>\n",
       "      <td>57000</td>\n",
       "      <td>0</td>\n",
       "    </tr>\n",
       "    <tr>\n",
       "      <th>4</th>\n",
       "      <td>15804002</td>\n",
       "      <td>Male</td>\n",
       "      <td>19</td>\n",
       "      <td>76000</td>\n",
       "      <td>0</td>\n",
       "    </tr>\n",
       "  </tbody>\n",
       "</table>\n",
       "</div>"
      ],
      "text/plain": [
       "    User ID  Gender  Age  EstimatedSalary  Purchased\n",
       "0  15624510    Male   19            19000          0\n",
       "1  15810944    Male   35            20000          0\n",
       "2  15668575  Female   26            43000          0\n",
       "3  15603246  Female   27            57000          0\n",
       "4  15804002    Male   19            76000          0"
      ]
     },
     "execution_count": 2,
     "metadata": {},
     "output_type": "execute_result"
    }
   ],
   "source": [
    "file_path = \"your_file_path_here.csv\"  # Replace with your actual file path\n",
    "df = pd.read_csv(file_path)\n",
    "df.head()"
   ]
  },
  {
   "cell_type": "markdown",
   "id": "4169b6a3",
   "metadata": {},
   "source": [
    "## 3) Divide dataset into n costumer groups"
   ]
  },
  {
   "cell_type": "code",
   "execution_count": 3,
   "id": "2e8662b6",
   "metadata": {},
   "outputs": [
    {
     "name": "stdout",
     "output_type": "stream",
     "text": [
      "Dataframes: \n",
      "df: (400, 5)\n",
      "df1: (196, 5)\n",
      "df2: (204, 5)\n"
     ]
    }
   ],
   "source": [
    "# Divide by gender\n",
    "dfs_gender = split_dataframe_by_values(df, 'Gender')\n",
    "print(\"Dataframes: \")\n",
    "print(\"df:\", df.shape)\n",
    "for i,each_df in enumerate(dfs_gender):\n",
    "    print(f\"df{i+1}:\", each_df.shape)"
   ]
  },
  {
   "cell_type": "code",
   "execution_count": 4,
   "id": "4f471725",
   "metadata": {},
   "outputs": [
    {
     "name": "stdout",
     "output_type": "stream",
     "text": [
      "Age quantiles: [33. 41.]\n",
      "Dataframes: \n",
      "df: (400, 5)\n",
      "df1: (69, 5)\n",
      "df2: (71, 5)\n",
      "df3: (56, 5)\n",
      "df4: (71, 5)\n",
      "df5: (58, 5)\n",
      "df6: (75, 5)\n"
     ]
    }
   ],
   "source": [
    "# Divide by Age\n",
    "age_quantiles = get_partition_limits(df, 'Age', 3)\n",
    "print(\"Age quantiles:\", age_quantiles)\n",
    "\n",
    "dfs_age = []\n",
    "for each_df in dfs_gender:\n",
    "    # Extend list (adds individual values to the list)\n",
    "    dfs_age.extend(split_dataframe_by_quantiles(each_df, 'Age', age_quantiles)) \n",
    "\n",
    "print(\"Dataframes: \")\n",
    "print(\"df:\", df.shape)\n",
    "for i,each_df in enumerate(dfs_age):\n",
    "    print(f\"df{i+1}:\", each_df.shape)"
   ]
  },
  {
   "cell_type": "code",
   "execution_count": 5,
   "id": "de7ac7f9",
   "metadata": {},
   "outputs": [
    {
     "name": "stdout",
     "output_type": "stream",
     "text": [
      "Salary quantiles: [52000. 80000.]\n",
      "Dataframes: \n",
      "df: (400, 5)\n",
      "df1: (26, 5)\n",
      "df2: (21, 5)\n",
      "df3: (22, 5)\n",
      "df4: (17, 5)\n",
      "df5: (38, 5)\n",
      "df6: (16, 5)\n",
      "df7: (20, 5)\n",
      "df8: (18, 5)\n",
      "df9: (18, 5)\n",
      "df10: (27, 5)\n",
      "df11: (19, 5)\n",
      "df12: (25, 5)\n",
      "df13: (13, 5)\n",
      "df14: (35, 5)\n",
      "df15: (10, 5)\n",
      "df16: (31, 5)\n",
      "df17: (7, 5)\n",
      "df18: (37, 5)\n"
     ]
    }
   ],
   "source": [
    "# Divide by Salary\n",
    "salary_quantiles = get_partition_limits(df, 'EstimatedSalary', 3)\n",
    "print(\"Salary quantiles:\", salary_quantiles)\n",
    "\n",
    "dfs = []\n",
    "for each_df in dfs_age:\n",
    "    dfs.extend(split_dataframe_by_quantiles(each_df, 'EstimatedSalary', salary_quantiles)) \n",
    "\n",
    "print(\"Dataframes: \")\n",
    "print(\"df:\", df.shape)\n",
    "for i,each_df in enumerate(dfs):\n",
    "    print(f\"df{i+1}:\", each_df.shape)"
   ]
  },
  {
   "cell_type": "markdown",
   "id": "75602fc9",
   "metadata": {},
   "source": [
    "## 4) Generate Messages"
   ]
  },
  {
   "cell_type": "code",
   "execution_count": null,
   "id": "6c56d218",
   "metadata": {},
   "outputs": [],
   "source": [
    "API_KEY = \"YOUR_API_KEY\""
   ]
  },
  {
   "cell_type": "code",
   "execution_count": 10,
   "id": "51845cfd",
   "metadata": {},
   "outputs": [
    {
     "data": {
      "text/plain": [
       "\"Yes, I'm here! How can I assist you today?\""
      ]
     },
     "execution_count": 10,
     "metadata": {},
     "output_type": "execute_result"
    }
   ],
   "source": [
    "system_prompt = \"You are a helpful assistant.\"\n",
    "user_prompt = \"Hey, are you there?\"\n",
    "get_response(API_KEY, system_prompt, user_prompt)"
   ]
  },
  {
   "cell_type": "code",
   "execution_count": 14,
   "id": "1c946fc5",
   "metadata": {},
   "outputs": [
    {
     "data": {
      "text/plain": [
       "['I have a store and I am promoting a discount for a specific product. I want to generate a message personalized to each category of costumers. My costumer has gender Male age between 18 and 33 and salary between 15000 and 52000. (Answer only the message)',\n",
       " 'I have a store and I am promoting a discount for a specific product. I want to generate a message personalized to each category of costumers. My costumer has gender Male age between 19 and 31 and salary between 55000 and 80000. (Answer only the message)',\n",
       " 'I have a store and I am promoting a discount for a specific product. I want to generate a message personalized to each category of costumers. My costumer has gender Male age between 18 and 32 and salary between 81000 and 148000. (Answer only the message)',\n",
       " 'I have a store and I am promoting a discount for a specific product. I want to generate a message personalized to each category of costumers. My costumer has gender Male age between 34 and 41 and salary between 20000 and 52000. (Answer only the message)',\n",
       " 'I have a store and I am promoting a discount for a specific product. I want to generate a message personalized to each category of costumers. My costumer has gender Male age between 35 and 41 and salary between 53000 and 79000. (Answer only the message)',\n",
       " 'I have a store and I am promoting a discount for a specific product. I want to generate a message personalized to each category of costumers. My costumer has gender Male age between 34 and 41 and salary between 87000 and 144000. (Answer only the message)',\n",
       " 'I have a store and I am promoting a discount for a specific product. I want to generate a message personalized to each category of costumers. My costumer has gender Male age between 45 and 60 and salary between 20000 and 43000. (Answer only the message)',\n",
       " 'I have a store and I am promoting a discount for a specific product. I want to generate a message personalized to each category of costumers. My costumer has gender Male age between 42 and 57 and salary between 54000 and 80000. (Answer only the message)',\n",
       " 'I have a store and I am promoting a discount for a specific product. I want to generate a message personalized to each category of costumers. My costumer has gender Male age between 42 and 60 and salary between 83000 and 150000. (Answer only the message)',\n",
       " 'I have a store and I am promoting a discount for a specific product. I want to generate a message personalized to each category of costumers. My costumer has gender Female age between 18 and 33 and salary between 15000 and 52000. (Answer only the message)',\n",
       " 'I have a store and I am promoting a discount for a specific product. I want to generate a message personalized to each category of costumers. My costumer has gender Female age between 18 and 33 and salary between 54000 and 80000. (Answer only the message)',\n",
       " 'I have a store and I am promoting a discount for a specific product. I want to generate a message personalized to each category of costumers. My costumer has gender Female age between 18 and 33 and salary between 82000 and 150000. (Answer only the message)',\n",
       " 'I have a store and I am promoting a discount for a specific product. I want to generate a message personalized to each category of costumers. My costumer has gender Female age between 34 and 41 and salary between 23000 and 51000. (Answer only the message)',\n",
       " 'I have a store and I am promoting a discount for a specific product. I want to generate a message personalized to each category of costumers. My costumer has gender Female age between 34 and 41 and salary between 54000 and 80000. (Answer only the message)',\n",
       " 'I have a store and I am promoting a discount for a specific product. I want to generate a message personalized to each category of costumers. My costumer has gender Female age between 35 and 40 and salary between 93000 and 147000. (Answer only the message)',\n",
       " 'I have a store and I am promoting a discount for a specific product. I want to generate a message personalized to each category of costumers. My costumer has gender Female age between 44 and 60 and salary between 20000 and 51000. (Answer only the message)',\n",
       " 'I have a store and I am promoting a discount for a specific product. I want to generate a message personalized to each category of costumers. My costumer has gender Female age between 42 and 59 and salary between 53000 and 80000. (Answer only the message)',\n",
       " 'I have a store and I am promoting a discount for a specific product. I want to generate a message personalized to each category of costumers. My costumer has gender Female age between 42 and 60 and salary between 82000 and 146000. (Answer only the message)']"
      ]
     },
     "execution_count": 14,
     "metadata": {},
     "output_type": "execute_result"
    }
   ],
   "source": [
    "descriptions = []\n",
    "general_prompt = \"I have a store and I am promoting a discount for a specific product. I want to generate a message personalized to each category of costumers. \"\n",
    "general_prompt_final = \" (Answer only the message)\"\n",
    "for df_group in dfs:\n",
    "    gender = df_group['Gender'].iloc[0] if not df_group.empty else 'Unknown'\n",
    "    age_min, age_max = df_group['Age'].min(), df_group['Age'].max()\n",
    "    salary_min, salary_max = df_group['EstimatedSalary'].min(), df_group['EstimatedSalary'].max()\n",
    "    desc = f\"My costumer has gender {gender} age between {age_min} and {age_max} and salary between {salary_min} and {salary_max}.\"\n",
    "    descriptions.append(general_prompt + desc + general_prompt_final)\n",
    "descriptions"
   ]
  },
  {
   "cell_type": "code",
   "execution_count": 15,
   "id": "18e16ccc",
   "metadata": {},
   "outputs": [
    {
     "name": "stdout",
     "output_type": "stream",
     "text": [
      "Response: \"Hey there! As a valued young man in our community, we’re excited to offer you an exclusive discount on [product name]. Elevate your experience with this fantastic deal, perfectly tailored for you. Don’t miss out!\"\n"
     ]
    }
   ],
   "source": [
    "desc = descriptions[0]\n",
    "system_prompt = \"You are a helpful assistant.\"\n",
    "user_prompt = desc\n",
    "response = get_response(API_KEY, system_prompt, user_prompt)\n",
    "print(\"Response:\", response)"
   ]
  },
  {
   "cell_type": "code",
   "execution_count": 16,
   "id": "ce78ed53",
   "metadata": {},
   "outputs": [
    {
     "name": "stdout",
     "output_type": "stream",
     "text": [
      "Response: Hey there! 🤙 We know you love staying on top of trends, so we're excited to offer you an exclusive discount on [Product]! Upgrade your collection now and enjoy a special deal just for you. Don't miss out – this is your chance to grab it at a great price! 🛒✨\n",
      "--------------------------------------------------\n",
      "Response: \"Hey there! As a valued customer, we’re excited to offer you an exclusive discount on [Product Name]. Elevate your style and experience with this special offer just for you. Don’t miss out—grab yours today and enjoy the savings!\"\n",
      "--------------------------------------------------\n",
      "Response: \"Hey there! Get ready to level up your style with our exclusive discount on [Product]! This is the perfect opportunity to grab something that complements your unique taste while saving you money. Hurry, this offer is just for a select group of trendsetters like you. Don't miss out!\"\n",
      "--------------------------------------------------\n",
      "Response: \"Hello! As a valued customer, we’re excited to offer you an exclusive discount on our latest product, tailored for your taste and lifestyle. Enjoy this special promotion and elevate your experience with us!\"\n",
      "--------------------------------------------------\n",
      "Response: \"Hey there! As a valued customer, we want to offer you an exclusive discount on our latest product designed just for you. Enjoy personalized savings that fit your lifestyle. Don't miss out on this limited-time offer tailored to meet your needs!\"\n",
      "--------------------------------------------------\n",
      "Response: \"Hey there! As a valued customer, we’re excited to offer you an exclusive discount on [Product Name]! This special promotion is just for you, because we recognize the importance of quality in your life. Don’t miss out on this opportunity to elevate your experience – grab yours today!\"\n",
      "--------------------------------------------------\n",
      "Response: \"Dear valued customer, we appreciate your loyalty and are excited to offer you an exclusive discount on our premium product line! As someone who values quality and innovation, we invite you to take advantage of this special offer tailored just for you. Don’t miss out on the chance to enhance your experience with us. Visit our store today!\"\n",
      "--------------------------------------------------\n",
      "Response: \"Dear Valued Customer, \n",
      "\n",
      "We're excited to offer an exclusive discount just for you! As a distinguished member of our community, we know you appreciate quality and value. Enjoy [insert discount] off our premium [insert product] – a perfect addition to your lifestyle. Don't miss out on this opportunity to elevate your experience. Visit us today and take advantage of this special offer just for you! \n",
      "\n",
      "Best regards,  \n",
      "[Your Store Name]\"\n",
      "--------------------------------------------------\n",
      "Response: \"Exclusive Offer Just for You! As a valued customer, we're excited to offer you a special discount on our premium products. Elevate your experience with us and enjoy the savings tailored to enhance your lifestyle. Visit us today and take advantage of this limited-time offer!\"\n",
      "--------------------------------------------------\n",
      "Response: 🌟 Hey there, fabulous ladies! 🌟 \n",
      "\n",
      "We know you work hard, and you deserve a little treat! Enjoy an exclusive discount on our latest products just for you. Whether you're looking to refresh your wardrobe or pamper yourself, we’ve got something special waiting for you. Don’t miss out—this offer is as trendy as you are! 💖 \n",
      "\n",
      "Shop now and indulge in your favorites! 🛍️✨\n",
      "--------------------------------------------------\n",
      "Response: 🌸 Hey Gorgeous! 🌸 \n",
      "\n",
      "We're excited to offer you an exclusive discount on our fabulous products! Treat yourself to something special and enjoy a limited-time offer just for you. You deserve it! 💖✨ \n",
      "\n",
      "Shop now and embrace your style!\n",
      "--------------------------------------------------\n",
      "Response: 🌟 Hey there, fabulous! 🌟 As a valued member of our community, we're excited to offer you an exclusive discount on our latest product that perfectly complements your vibrant lifestyle. Treat yourself to something special because you deserve it! 💖✨ Check it out today and elevate your collection!\n",
      "--------------------------------------------------\n",
      "Response: 🌟 Special Offer Just for You! 🌟 \n",
      "\n",
      "Dear Valued Customer, \n",
      "\n",
      "We’re excited to announce an exclusive discount on [Product Name] just for our amazing female customers aged 34 to 41! As someone who values quality and style, we want you to enjoy [specific discount details] on your next purchase. \n",
      "\n",
      "Indulge in this opportunity to treat yourself with something special while saving money! \n",
      "\n",
      "Shop now and embrace the savings! 💖 \n",
      "\n",
      "Best,  \n",
      "[Your Store Name]\n",
      "--------------------------------------------------\n",
      "Response: 🌟 Special Offer Just for You! 🌟\n",
      "\n",
      "Dear valued customer,\n",
      "\n",
      "We’re excited to offer you an exclusive discount on our latest product! As a cherished member of our community, we understand the importance of quality and value in your life. For a limited time, enjoy a special discount tailored just for you. \n",
      "\n",
      "Treat yourself to something special and take advantage of this opportunity while it lasts! \n",
      "\n",
      "Shop now and elevate your experience!\n",
      "\n",
      "Warm regards,  \n",
      "[Your Store Name]\n",
      "--------------------------------------------------\n",
      "Response: 🌟 Exclusive Offer Just for You! 🌟 \n",
      "\n",
      "Dear Valued Customer,\n",
      "\n",
      "We're excited to bring you a special discount on our latest product, tailored for women who appreciate quality and elegance. As a cherished member of our store, you deserve this unique opportunity to indulge yourself. Treat yourself to something special and enjoy a limited-time discount just for you!\n",
      "\n",
      "Don’t miss out—shop now and elevate your experience!\n",
      "\n",
      "Best wishes,\n",
      "[Your Store Name]\n",
      "--------------------------------------------------\n",
      "Response: 🌸 Attention Valued Customers! 🌸\n",
      "\n",
      "We're excited to offer an exclusive discount just for you! As a token of our appreciation for your loyalty, enjoy [specific discount]% off on [specific product]. It's the perfect opportunity to indulge yourself with something special. \n",
      "\n",
      "Don’t miss out - come visit us today and treat yourself! 💖 \n",
      "\n",
      "Best,  \n",
      "[Your Store Name]\n",
      "--------------------------------------------------\n",
      "Response: \"Dear Valued Customer, \n",
      "\n",
      "We’re excited to offer you an exclusive discount on our featured product just for you! As a valued member of our community, we appreciate your support and want to help you discover something special that fits your style and needs. Enjoy a limited-time savings on your next purchase and elevate your experience with us. \n",
      "\n",
      "Thank you for being a part of our family!\"\n",
      "--------------------------------------------------\n",
      "Response: Dear Valued Customer, \n",
      "\n",
      "We're excited to offer you an exclusive discount on our premium products! As a special thank you for being part of our community, enjoy [percentage]% off your next purchase. It’s our way of showing appreciation for your loyalty and distinctive taste. Don’t miss out on this limited-time offer tailored just for you!\n",
      "\n",
      "Warm regards,  \n",
      "[Your Store Name]\n",
      "--------------------------------------------------\n"
     ]
    }
   ],
   "source": [
    "system_prompt = \"You are a helpful assistant.\"\n",
    "responses = []\n",
    "\n",
    "for desc in descriptions:\n",
    "    user_prompt = desc\n",
    "    response = get_response(API_KEY, system_prompt, user_prompt)\n",
    "    print(\"Response:\", response)\n",
    "    print(\"-\" * 50)  # Separator for readability\n",
    "    responses.append(response)"
   ]
  },
  {
   "cell_type": "code",
   "execution_count": 17,
   "id": "4a2bb199",
   "metadata": {},
   "outputs": [],
   "source": [
    "with open(\"personalized_messages.txt\", \"w\") as f:\n",
    "    for df_group, message in zip(dfs, responses):\n",
    "        gender = df_group['Gender'].iloc[0] if not df_group.empty else 'Unknown'\n",
    "        age_min = df_group['Age'].min() if not df_group.empty else 'N/A'\n",
    "        age_max = df_group['Age'].max() if not df_group.empty else 'N/A'\n",
    "        salary_min = df_group['EstimatedSalary'].min() if not df_group.empty else 'N/A'\n",
    "        salary_max = df_group['EstimatedSalary'].max() if not df_group.empty else 'N/A'\n",
    "        f.write(f\"Gender: {gender}, Age: {age_min}-{age_max}, Salary: {salary_min}-{salary_max}\\n\")\n",
    "        f.write(f\"Message: {message}\\n\")\n",
    "        f.write(\"-\" * 50 + \"\\n\")"
   ]
  }
 ],
 "metadata": {
  "kernelspec": {
   "display_name": "Python 3",
   "language": "python",
   "name": "python3"
  },
  "language_info": {
   "codemirror_mode": {
    "name": "ipython",
    "version": 3
   },
   "file_extension": ".py",
   "mimetype": "text/x-python",
   "name": "python",
   "nbconvert_exporter": "python",
   "pygments_lexer": "ipython3",
   "version": "3.12.0"
  }
 },
 "nbformat": 4,
 "nbformat_minor": 5
}
